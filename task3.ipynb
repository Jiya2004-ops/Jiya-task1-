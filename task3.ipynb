{
  "nbformat": 4,
  "nbformat_minor": 0,
  "metadata": {
    "colab": {
      "provenance": [],
      "authorship_tag": "ABX9TyPrH3sMBEk/KwJcMiAxoRn6",
      "include_colab_link": true
    },
    "kernelspec": {
      "name": "python3",
      "display_name": "Python 3"
    },
    "language_info": {
      "name": "python"
    }
  },
  "cells": [
    {
      "cell_type": "markdown",
      "metadata": {
        "id": "view-in-github",
        "colab_type": "text"
      },
      "source": [
        "<a href=\"https://colab.research.google.com/github/Jiya2004-ops/Jiya-task1-/blob/main/task3.ipynb\" target=\"_parent\"><img src=\"https://colab.research.google.com/assets/colab-badge.svg\" alt=\"Open In Colab\"/></a>"
      ]
    },
    {
      "cell_type": "markdown",
      "source": [],
      "metadata": {
        "id": "yvuQ9Tgfzwj4"
      }
    },
    {
      "cell_type": "code",
      "source": [
        "pip install ucimlrepo import pandas as pd\n",
        "from sklearn.model_selection import train_test_split\n",
        "from sklearn.tree import DecisionTreeClassifier\n",
        "from sklearn.preprocessing import LabelEncoder, OneHotEncoder\n",
        "from sklearn.metrics import accuracy_score\n",
        "\n",
        "# Handle categorical variables:\n",
        "categorical_cols = ['job', 'marital', 'education', 'contact', 'month', 'poutcome']\n",
        "import pandas as pd\n",
        "from sklearn.model_selection import train_test_split\n",
        "from sklearn.tree import DecisionTreeClassifier\n",
        "from sklearn.preprocessing import LabelEncoder, OneHotEncoder\n",
        "from sklearn.metrics import accuracy_score\n",
        "\n",
        "# Handle categorical variables:\n",
        "categorical_cols = ['job', 'marital', 'education', 'contact', 'month', 'poutcome']\n",
        "\n",
        "# Encode the categorical columns directly from X\n",
        "for col in categorical_cols:\n",
        "  X[col] = label_encoder.fit_transform(X[col])\n",
        "\n",
        "# Load the data into a Pandas DataFrame\n",
        "data = pd.DataFrame(X)\n",
        "data['y'] = y\n",
        "\n",
        "# Then encode the categorical columns\n",
        "for col in categorical_cols:\n",
        "  data[col] = label_encoder.fit_transform(data[col])\n",
        "\n",
        "# Split data into training and testing sets\n",
        "X_train, X_test, y_train, y_test = train_test_split(X, y, test_size=0.2, random_state=42)\n",
        "\n",
        "# Create the decision tree classifier model\n",
        "model = DecisionTreeClassifier(max_depth=5)\n",
        "# Encode the categorical columns directly from X\n",
        "for col in categorical_cols:\n",
        "  X[col] = label_encoder.fit_transform(X[col])\n",
        "\n",
        "# Load the data into a Pandas DataFrame\n",
        "data = pd.DataFrame(X)\n",
        "data['y'] = y\n",
        "\n",
        "# Then encode the categorical columns\n",
        "for col in categorical_cols:\n",
        "  data[col] = label_encoder.fit_transform(data[col])\n",
        "\n",
        "# Split data into training and testing sets\n",
        "X_train, X_test, y_train, y_test = train_test_split(X, y, test_size=0.2, random_state=42)\n",
        "\n",
        "# Create the decision tree classifier model\n",
        "model = DecisionTreeClassifier(max_depth=5)"
      ],
      "metadata": {
        "id": "HeibrVNk06AE"
      },
      "execution_count": null,
      "outputs": []
    }
  ]
}